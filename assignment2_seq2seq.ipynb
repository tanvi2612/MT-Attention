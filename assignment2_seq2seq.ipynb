{
 "cells": [
  {
   "cell_type": "code",
   "execution_count": 1,
   "metadata": {
    "colab": {
     "base_uri": "https://localhost:8080/",
     "height": 34
    },
    "id": "L0QjG6nCU8gA",
    "outputId": "fad42295-3ffd-4776-b0e5-caa97a98fbc8"
   },
   "outputs": [
    {
     "name": "stdout",
     "output_type": "stream",
     "text": [
      "1.6.0\n"
     ]
    }
   ],
   "source": [
    "'''\n",
    "Importing Libraries\n",
    "'''\n",
    "import torch\n",
    "import torch.nn.functional as F\n",
    "import torch.nn as nn\n",
    "import torch.optim as optim\n",
    "import numpy as np\n",
    "import spacy\n",
    "import random\n",
    "import pandas as pd\n",
    "from sklearn.model_selection import train_test_split\n",
    "import numpy as np\n",
    "import re\n",
    "import time\n",
    "import json\n",
    "from nltk.translate.bleu_score import sentence_bleu\n",
    "import matplotlib.pyplot as plt\n",
    "from nltk.translate.bleu_score import SmoothingFunction\n",
    "smoothing_fn = SmoothingFunction().method4\n",
    "print(torch.__version__)"
   ]
  },
  {
   "cell_type": "code",
   "execution_count": 2,
   "metadata": {
    "id": "N9QZ_I08U8gI"
   },
   "outputs": [],
   "source": [
    "from torchtext.data import Field, BucketIterator"
   ]
  },
  {
   "cell_type": "code",
   "execution_count": 3,
   "metadata": {
    "id": "wyRm6PF8U8gN"
   },
   "outputs": [],
   "source": [
    "import pickle"
   ]
  },
  {
   "cell_type": "code",
   "execution_count": 4,
   "metadata": {
    "colab": {
     "base_uri": "https://localhost:8080/",
     "height": 118
    },
    "id": "8rc2IHgHU8gT",
    "outputId": "bcc09342-27d6-47c0-e8de-f3e57cabd15f"
   },
   "outputs": [
    {
     "name": "stdout",
     "output_type": "stream",
     "text": [
      "                              english                           hindi\n",
      "57382              Who is this man?\\n             -ये आदमी कौन है ?\\n\n",
      "28149        And the other brother?\\n                 और दूसरे भाई?\\n\n",
      "80284  - Greetings, Mustakeen bhai.\\n        नमस्ते, Mustakeen भाई।\\n\n",
      "63596     Please, reason with them.\\n  कृपया, उन लोगों के साथ कारण.\\n\n",
      "9459        There's a howling gale.\\n             तेज़ हवा आ रही है।\\n\n"
     ]
    }
   ],
   "source": [
    "'''\n",
    "Import Data from Pickle \n",
    "'''\n",
    "with open('./en_hi_data/en_hi.pkl', 'rb') as f:\n",
    "    data = pickle.load(f)\n",
    "print(data.head())"
   ]
  },
  {
   "cell_type": "code",
   "execution_count": 5,
   "metadata": {
    "id": "tDH8cDdRCOwf"
   },
   "outputs": [],
   "source": [
    "dataset = {'en' : [], 'hi' : [] }\n",
    "for k in data['english'].keys():\n",
    "    dataset['en'].append(data['english'][k]) \n",
    "    dataset['hi'].append(data['hindi'][k])\n"
   ]
  },
  {
   "cell_type": "code",
   "execution_count": 6,
   "metadata": {
    "id": "Qraubt-C26V2"
   },
   "outputs": [],
   "source": [
    "'''\n",
    "Creating Train Dev and Test Datasets\n",
    "'''\n",
    "X_train, X_test, y_train, y_test = train_test_split(data['english'] , data['hindi'], test_size=0.3, random_state=42)\n",
    "X_dev, X_test, y_dev, y_test = train_test_split(X_test , y_test, test_size=0.2, random_state=42)"
   ]
  },
  {
   "cell_type": "code",
   "execution_count": 7,
   "metadata": {
    "id": "KcgGNXCHD-V8"
   },
   "outputs": [],
   "source": [
    "'''\n",
    "Merging into Dataframes\n",
    "'''\n",
    "train_data = pd.concat([X_train, y_train], axis=1)\n",
    "test_data = pd.concat([X_test, y_test], axis=1)\n",
    "dev_data = pd.concat([X_dev, y_dev], axis=1)"
   ]
  },
  {
   "cell_type": "code",
   "execution_count": 8,
   "metadata": {},
   "outputs": [
    {
     "data": {
      "text/plain": [
       "'\\nCreating CSV files for Training, Dev and Test Datasets\\n'"
      ]
     },
     "execution_count": 8,
     "metadata": {},
     "output_type": "execute_result"
    }
   ],
   "source": [
    "'''\n",
    "Creating CSV files for Training, Dev and Test Datasets\n",
    "'''\n",
    "\n",
    "# with open(\"train_data.csv\", \"w\") as outfile:  \n",
    "#     train_data.to_csv(outfile, sep=',', encoding='utf-8') \n",
    "# with open(\"test_data.csv\", \"w\") as outfile:  \n",
    "#     test_data.to_csv(outfile, sep=',', encoding='utf-8') \n",
    "# with open(\"dev_data.csv\", \"w\") as outfile:  \n",
    "#     dev_data.to_csv(outfile, sep=',', encoding='utf-8')  "
   ]
  },
  {
   "cell_type": "code",
   "execution_count": 9,
   "metadata": {
    "id": "qltTX8-wU8ge"
   },
   "outputs": [],
   "source": [
    "import unicodedata\n",
    "def unicode_to_ascii(s):\n",
    "    return ''.join( c for c in unicodedata.normalize( 'NFD', s ) if unicodedata.category( c ) != 'Mn' )\n",
    "\n",
    "'''\n",
    "Tokenization for English\n",
    "'''\n",
    "def add_spaces_eng(w):\n",
    "#     print(w)\n",
    "    w = re.sub(r\"([?.!,])\", r\" \\1 \", w)\n",
    "    w = re.sub(r'[\" \"]+', \" \", w)    \n",
    "    w = w.lower()\n",
    "    w = re.sub(r\"[^a-z?.!,]+\", \" \", w)    \n",
    "    w = w.strip()\n",
    "#     print(w)\n",
    "    arr = unicode_to_ascii(w)\n",
    "#     print(arr)\n",
    "    return arr.split()\n",
    "\n",
    "'''\n",
    "Tokenization for Hindi\n",
    "'''\n",
    "def add_spaces_hin(w):\n",
    "    w = re.sub(r\"([?.!,])\", r\" \\1 \", w)\n",
    "    w = re.sub(r'[\" \"]+', \" \", w)\n",
    "    w = w.strip()\n",
    "    arr = unicode_to_ascii(w)\n",
    "#     print(arr)\n",
    "    return arr.split()"
   ]
  },
  {
   "cell_type": "code",
   "execution_count": 10,
   "metadata": {
    "id": "bhK982TqU8gx"
   },
   "outputs": [
    {
     "name": "stderr",
     "output_type": "stream",
     "text": [
      "/home/tanvi/anaconda3/lib/python3.8/site-packages/torchtext/data/field.py:150: UserWarning: Field class will be retired in the 0.8.0 release and moved to torchtext.legacy. Please see 0.7.0 release notes for further information.\n",
      "  warnings.warn('{} class will be retired in the 0.8.0 release and moved to torchtext.legacy. Please see 0.7.0 release notes for further information.'.format(self.__class__.__name__), UserWarning)\n"
     ]
    }
   ],
   "source": [
    "'''\n",
    "Creating Torchtext Fields\n",
    "'''\n",
    "english = Field(tokenize = add_spaces_eng,lower = True,init_token = \"<s>\",eos_token = \"<e>\")\n",
    "hindi = Field(tokenize = add_spaces_hin,lower = True,init_token = \"<s>\",eos_token = \"<e>\")"
   ]
  },
  {
   "cell_type": "code",
   "execution_count": 11,
   "metadata": {
    "colab": {
     "base_uri": "https://localhost:8080/",
     "height": 370
    },
    "id": "zXYX_iFpU8g1",
    "outputId": "45f38683-3b77-4f3c-d8db-ae0afe576acd"
   },
   "outputs": [
    {
     "name": "stderr",
     "output_type": "stream",
     "text": [
      "/home/tanvi/anaconda3/lib/python3.8/site-packages/torchtext/data/example.py:68: UserWarning: Example class will be retired in the 0.8.0 release and moved to torchtext.legacy. Please see 0.7.0 release notes for further information.\n",
      "  warnings.warn('Example class will be retired in the 0.8.0 release and moved to torchtext.legacy. Please see 0.7.0 release notes for further information.', UserWarning)\n",
      "/home/tanvi/anaconda3/lib/python3.8/site-packages/torchtext/data/example.py:78: UserWarning: Example class will be retired in the 0.8.0 release and moved to torchtext.legacy. Please see 0.7.0 release notes for further information.\n",
      "  warnings.warn('Example class will be retired in the 0.8.0 release and moved to torchtext.legacy. Please see 0.7.0 release notes for further information.', UserWarning)\n"
     ]
    }
   ],
   "source": [
    "'''\n",
    "Creating dataset tensors for training \n",
    "'''\n",
    "from torchtext.data import TabularDataset, Field \n",
    "train_data, valid_data, test_data = TabularDataset.splits( path=\"./\", train=\"train_data.csv\", \n",
    "                                                          validation=\"dev_data.csv\",\n",
    "                                                          test=\"test_data.csv\",  format=\"CSV\",\n",
    "                                                          fields= [(\"english\", english), (\"hindi\", hindi)])"
   ]
  },
  {
   "cell_type": "code",
   "execution_count": 12,
   "metadata": {
    "colab": {
     "base_uri": "https://localhost:8080/",
     "height": 34
    },
    "id": "S2Ubi_fQU8g7",
    "outputId": "ed5258c8-7220-46f4-9dbc-2b9ad2162f9f"
   },
   "outputs": [],
   "source": [
    "'''\n",
    "Creating Vocab\n",
    "'''\n",
    "english.build_vocab(train_data.english,max_size = 10000,min_freq = 3)\n",
    "hindi.build_vocab(train_data.hindi,max_size = 10000,min_freq = 2)\n"
   ]
  },
  {
   "cell_type": "code",
   "execution_count": 13,
   "metadata": {
    "id": "euh4eykSU8hA"
   },
   "outputs": [],
   "source": [
    "'''\n",
    "Defining Encoder\n",
    "'''\n",
    "class Encoder(nn.Module):\n",
    "    \n",
    "    def __init__(self, input_size, embedding_size, hidden_size, num_layers, dropout):\n",
    "        super(Encoder, self).__init__()\n",
    "        self.dropout = nn.Dropout(dropout)\n",
    "        self.hidden_size = hidden_size\n",
    "        self.num_layers = num_layers\n",
    "        self.embedding = nn.Embedding(input_size, embedding_size)\n",
    "        self.rnn = nn.LSTM(embedding_size, hidden_size, num_layers, dropout=dropout)\n",
    "\n",
    "    def forward(self, x):\n",
    "        embedding = self.dropout(self.embedding(x))\n",
    "        outputs, (hidden, cell) = self.rnn(embedding)\n",
    "        return hidden, cell"
   ]
  },
  {
   "cell_type": "code",
   "execution_count": 14,
   "metadata": {
    "id": "rCRH5MFhU8hE"
   },
   "outputs": [],
   "source": [
    "'''\n",
    "Defining Decoder \n",
    "'''\n",
    "class Decoder(nn.Module):\n",
    "    def __init__(\n",
    "        self, input_size, embedding_size, hidden_size, output_size, num_layers, dropout):\n",
    "        super(Decoder, self).__init__()\n",
    "        self.output_size = output_size\n",
    "        self.dropout = nn.Dropout(dropout)\n",
    "        self.hidden_size = hidden_size\n",
    "        self.num_layers = num_layers\n",
    "        self.embedding = nn.Embedding(output_size, embedding_size)\n",
    "        self.rnn = nn.LSTM(embedding_size, hidden_size, num_layers, dropout=dropout)\n",
    "        self.fc = nn.Linear(hidden_size, output_size)\n",
    "\n",
    "    def forward(self, x, hidden, cell):\n",
    "        x = x.unsqueeze(0)\n",
    "        embedding = self.dropout(self.embedding(x))\n",
    "        outputs, (hidden, cell) = self.rnn(embedding, (hidden, cell))\n",
    "        predictions = self.fc(outputs.squeeze(0))\n",
    "        return predictions, hidden, cell"
   ]
  },
  {
   "cell_type": "code",
   "execution_count": 15,
   "metadata": {
    "id": "k99eCNL0U8hI"
   },
   "outputs": [],
   "source": [
    "'''\n",
    "Creating the Model\n",
    "'''\n",
    "class Seq2Seq(nn.Module):\n",
    "    def __init__(self, encoder, decoder):\n",
    "        super(Seq2Seq, self).__init__()\n",
    "        self.encoder = encoder\n",
    "        self.decoder = decoder\n",
    "        \n",
    "    def forward(self, source, target, teacher_force_ratio=0.5):\n",
    "        batch_size = source.shape[1]\n",
    "        target_len = target.shape[0]\n",
    "        target_vocab_size = self.decoder.output_size\n",
    "        outputs = torch.zeros(target_len, batch_size, target_vocab_size).to(device)\n",
    "        hidden, cell = self.encoder(source)\n",
    "        x = target[0]\n",
    "\n",
    "        for t in range(1, target_len):\n",
    "            output, hidden, cell = self.decoder(x, hidden, cell)\n",
    "            outputs[t] = output\n",
    "            teacher_force = random.random() < teacher_force_ratio\n",
    "            best_guess = output.argmax(1)\n",
    "            x = target[t] if random.random() < teacher_force else best_guess\n",
    "        return outputs"
   ]
  },
  {
   "cell_type": "code",
   "execution_count": 36,
   "metadata": {
    "id": "2r0IfSYPU8hO"
   },
   "outputs": [],
   "source": [
    "'''\n",
    "Important Parmeters\n",
    "'''\n",
    "num_epochs = 8\n",
    "learning_rate = 0.1\n",
    "batch_size = 128"
   ]
  },
  {
   "cell_type": "code",
   "execution_count": 37,
   "metadata": {
    "id": "khsgp1g-U8hS"
   },
   "outputs": [],
   "source": [
    "'''\n",
    "HyperParameters\n",
    "'''\n",
    "load_model = False\n",
    "device = torch.device(\"cuda\" if torch.cuda.is_available() else 'cpu')\n",
    "input_size_encoder = len(english.vocab)\n",
    "input_size_decoder = len(hindi.vocab)\n",
    "output_size = len(hindi.vocab)\n",
    "encoder_embedding_size = 256\n",
    "decoder_embedding_size = 256\n",
    "hidden_size = 512\n",
    "num_layers = 2\n",
    "enc_dropout = 0.5\n",
    "dec_dropout = 0.5"
   ]
  },
  {
   "cell_type": "code",
   "execution_count": 38,
   "metadata": {
    "id": "8JiH_F5LU8hW"
   },
   "outputs": [],
   "source": [
    "'''\n",
    "BucketIterator\n",
    "'''\n",
    "train_iterator, validation_iterator, test_iterator = BucketIterator.splits(\n",
    "    (train_data, valid_data, test_data), \n",
    "    batch_size = batch_size, \n",
    "    device = device, sort = False, \n",
    "    sort_within_batch = True, \n",
    "    sort_key = lambda x:len(x.hindi),\n",
    "     )"
   ]
  },
  {
   "cell_type": "code",
   "execution_count": 39,
   "metadata": {
    "id": "PPmehwWVU8hb"
   },
   "outputs": [],
   "source": [
    "encoder_net = Encoder(input_size_encoder, encoder_embedding_size, hidden_size,num_layers, enc_dropout)\n",
    "decoder_net = Decoder(input_size_decoder, decoder_embedding_size, hidden_size, output_size, num_layers, dec_dropout)"
   ]
  },
  {
   "cell_type": "code",
   "execution_count": 40,
   "metadata": {
    "id": "77zVOeuDU8hg"
   },
   "outputs": [],
   "source": [
    "'''\n",
    "Initiating Model\n",
    "'''\n",
    "def init_weights(m):\n",
    "    for name, param in m.named_parameters():\n",
    "        nn.init.uniform_( param.data, -0.08, 0.08 )\n",
    "model = Seq2Seq(encoder_net, decoder_net).to(device)\n",
    "model.apply( init_weights )\n",
    "'''\n",
    "Using Adam Optimizer\n",
    "'''\n",
    "optimizer = optim.Adam(model.parameters(), lr=learning_rate)"
   ]
  },
  {
   "cell_type": "code",
   "execution_count": 41,
   "metadata": {
    "id": "bv9FSMcTU8hk"
   },
   "outputs": [],
   "source": [
    "pad_idx = english.vocab.stoi[english.pad_token]\n",
    "criterion = nn.CrossEntropyLoss(ignore_index = pad_idx)"
   ]
  },
  {
   "cell_type": "code",
   "execution_count": 42,
   "metadata": {},
   "outputs": [],
   "source": [
    "'''\n",
    "Train Function (For Training set )\n",
    "'''\n",
    "def train(model, iterator, optimizer, criterion, clip):\n",
    "    model.train()\n",
    "    epoch_loss = 0\n",
    "    for i, batch in enumerate( iterator ):\n",
    "        src = batch.english\n",
    "        trg = batch.hindi\n",
    "        optimizer.zero_grad()\n",
    "        output = model( src, trg )\n",
    "        output_dim = output.shape[-1]\n",
    "        output = output[1:].view( -1, output_dim )\n",
    "        trg = trg[1:].view( -1 )\n",
    "        loss = criterion( output, trg )\n",
    "        loss.backward()\n",
    "        torch.nn.utils.clip_grad_norm_( model.parameters(), clip )\n",
    "        optimizer.step()\n",
    "        epoch_loss += loss.item()\n",
    "    return epoch_loss / len( iterator )"
   ]
  },
  {
   "cell_type": "code",
   "execution_count": 46,
   "metadata": {},
   "outputs": [],
   "source": [
    "'''\n",
    "Evaluate function to test the model of Validation Set \n",
    "'''\n",
    "\n",
    "def evaluate(model, iterator, criterion):\n",
    "    model.eval()\n",
    "\n",
    "    epoch_loss = 0\n",
    "\n",
    "    with torch.no_grad():\n",
    "        for i, batch in enumerate( iterator ):\n",
    "            src = batch.english\n",
    "            trg = batch.hindi\n",
    "\n",
    "            output = model( src, trg, 0 )  # turn off teacher forcing\n",
    "\n",
    "            output_dim = output.shape[-1]\n",
    "\n",
    "            output = output[1:].view( -1, output_dim )\n",
    "            trg = trg[1:].view( -1 )\n",
    "\n",
    "            loss = criterion( output, trg )\n",
    "\n",
    "            epoch_loss += loss.item()\n",
    "\n",
    "    return epoch_loss / len( iterator )"
   ]
  },
  {
   "cell_type": "code",
   "execution_count": 47,
   "metadata": {},
   "outputs": [],
   "source": [
    "'''\n",
    "Calculating the bleu score\n",
    "'''\n",
    "from torchtext.data.metrics import bleu_score\n",
    "def bleu(data, model, hindi, english, device):\n",
    "    targets = []\n",
    "    outputs = []\n",
    "\n",
    "    for example in data:\n",
    "        src = vars(example)[\"english\"]\n",
    "        trg = vars(example)[\"hindi\"]\n",
    "\n",
    "        prediction = translate_sentence(model, src, english, hindi, device)\n",
    "        prediction = prediction[:-1]  # remove <eos> token\n",
    "\n",
    "        targets.append([trg])\n",
    "        outputs.append(prediction)\n",
    "\n",
    "    return bleu_score(outputs, targets)\n",
    "\n",
    "\n",
    "'''\n",
    "For the checkpoints\n",
    "'''\n",
    "def save_checkpoint(state, filename=\"my_checkpoint_seq2Seq.pth.tar\"):\n",
    "    print(\"=> Saving checkpoint\")\n",
    "    torch.save(state, filename)"
   ]
  },
  {
   "cell_type": "code",
   "execution_count": 48,
   "metadata": {},
   "outputs": [
    {
     "name": "stdout",
     "output_type": "stream",
     "text": [
      "=> Saving checkpoint\n",
      "Epoch: 1\n",
      "Train Loss: 9.62\n",
      "Val. Loss: 8.25\n",
      "=> Saving checkpoint\n",
      "Epoch: 2\n",
      "Train Loss: 8.71\n",
      "Val. Loss: 7.5\n",
      "=> Saving checkpoint\n",
      "Epoch: 3\n",
      "Train Loss: 8.16\n",
      "Val. Loss: 7.07\n",
      "=> Saving checkpoint\n",
      "Epoch: 4\n",
      "Train Loss: 7.84\n",
      "Val. Loss: 6.72\n",
      "=> Saving checkpoint\n",
      "Epoch: 5\n",
      "Train Loss: 7.22\n",
      "Val. Loss: 8.5\n",
      "=> Saving checkpoint\n",
      "Epoch: 6\n",
      "Train Loss: 7.26\n",
      "Val. Loss: 6.67\n",
      "=> Saving checkpoint\n",
      "Epoch: 7\n",
      "Train Loss: 6.87\n",
      "Val. Loss: 6.65\n",
      "=> Saving checkpoint\n",
      "Epoch: 8\n",
      "Train Loss: 6.86\n",
      "Val. Loss: 6.21\n"
     ]
    }
   ],
   "source": [
    "'''\n",
    "Training the model\n",
    "'''\n",
    "import math\n",
    "\n",
    "tr_loss = []\n",
    "val_loss = []\n",
    "for epoch in range(num_epochs):\n",
    "    \n",
    "    train_loss = train( model, train_iterator, optimizer, criterion, 1 )\n",
    "    tr_loss.append(train_loss)\n",
    "    valid_loss = evaluate( model, validation_iterator, criterion)\n",
    "    val_loss.append(valid_loss)\n",
    "    checkpoint = {\"state_dict\": model.state_dict(), \"optimizer\": optimizer.state_dict()}\n",
    "    save_checkpoint(checkpoint)\n",
    "    \n",
    "    print( 'Epoch:', epoch + 1 )\n",
    "    print( 'Train Loss:', round(train_loss,2) )\n",
    "    print( 'Val. Loss:', round(valid_loss,2) )\n"
   ]
  },
  {
   "cell_type": "code",
   "execution_count": 50,
   "metadata": {},
   "outputs": [
    {
     "data": {
      "image/png": "[encoded data removed]",
      "text/plain": [
       "<Figure size 432x288 with 1 Axes>"
      ]
     },
     "metadata": {
      "needs_background": "light"
     },
     "output_type": "display_data"
    }
   ],
   "source": [
    "'''\n",
    "Plotting the graphs\n",
    "'''\n",
    "x=[i for i in range(1,9)]\n",
    "# train_loss=[6.660, 6.180, 6.092, 6.164, 5.847, 5.262, 4.952, 4.880]\n",
    "# val_loss = [5.709, 5.571, 5.790, 5.437, 5.795, 4.856, 4.696, 4.620]\n",
    "plt.plot(x,tr_loss,label='train')\n",
    "plt.plot(x,val_loss,label='valid')\n",
    "plt.legend() \n",
    "plt.show()"
   ]
  },
  {
   "cell_type": "code",
   "execution_count": null,
   "metadata": {},
   "outputs": [],
   "source": [
    "'''\n",
    "Translating Sentences\n",
    "'''\n",
    "def translate_sentence(model, sentence, english, hindi, device, max_length=20):\n",
    "    \n",
    "    if type(sentence) == str:\n",
    "        tokens = add_spaces_eng(sentence)\n",
    "    else:\n",
    "        tokens = [token.lower() for token in sentence]\n",
    "\n",
    "#     print(tokens)\n",
    "\n",
    "    tokens.insert(0, english.init_token)\n",
    "    tokens.append(english.eos_token)\n",
    "    text_to_indices = [english.vocab.stoi[token] for token in tokens]\n",
    "    sentence_tensor = torch.LongTensor(text_to_indices).unsqueeze(1).to(device)\n",
    "    with torch.no_grad():\n",
    "        hidden, cell = model.encoder(sentence_tensor)\n",
    "\n",
    "    outputs = [hindi.vocab.stoi[\"<s>\"]]\n",
    "\n",
    "    for _ in range(max_length):\n",
    "        previous_word = torch.LongTensor([outputs[-1]]).to(device)\n",
    "\n",
    "        with torch.no_grad():\n",
    "            output, hidden, cell = model.decoder(previous_word, hidden, cell)\n",
    "            best_guess = output.argmax(1).item()\n",
    "        outputs.append(best_guess)\n",
    "        if output.argmax(1).item() == hindi.vocab.stoi[\"<e>\"]:\n",
    "            break\n",
    "    translated_sentence = [hindi.vocab.itos[idx] for idx in outputs]\n",
    "    return translated_sentence[1:]\n"
   ]
  },
  {
   "cell_type": "code",
   "execution_count": null,
   "metadata": {},
   "outputs": [],
   "source": [
    "'''\n",
    "Testing the model\n",
    "'''\n",
    "num = 1\n",
    "for i in test_data:\n",
    "    print(f'Example #{num}' )\n",
    "    num+=1\n",
    "    print('English Input:' ,' '.join(i.english))\n",
    "    print('Expected Output:',' '.join(i.hindi))\n",
    "    print('Actual Output:',' '.join(translate_sentence(model, ' '.join(i.english), english, hindi, device)))\n",
    "    print()"
   ]
  },
  {
   "cell_type": "code",
   "execution_count": null,
   "metadata": {},
   "outputs": [],
   "source": []
  }
 ],
 "metadata": {
  "colab": {
   "collapsed_sections": [],
   "name": "assignment2.ipynb",
   "provenance": []
  },
  "kernelspec": {
   "display_name": "Python 3",
   "language": "python",
   "name": "python3"
  },
  "language_info": {
   "codemirror_mode": {
    "name": "ipython",
    "version": 3
   },
   "file_extension": ".py",
   "mimetype": "text/x-python",
   "name": "python",
   "nbconvert_exporter": "python",
   "pygments_lexer": "ipython3",
   "version": "3.8.3"
  }
 },
 "nbformat": 4,
 "nbformat_minor": 1
}
